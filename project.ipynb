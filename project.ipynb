{
 "cells": [
  {
   "cell_type": "raw",
   "id": "62f45f74-9832-457b-b11e-124298724c7c",
   "metadata": {},
   "source": [
    "The dataset was based on the video games sales over a few countries and globally. The primary focus of the analysis was understanding how many sales were made in each country and or globally. To understand how many games were more popular than the other. Visual representations are clear and understandable."
   ]
  },
  {
   "cell_type": "markdown",
   "id": "592ea806-d61e-4e20-9e66-2db78d73f9c9",
   "metadata": {},
   "source": [
    "#### ***Install kaggle and import***"
   ]
  },
  {
   "cell_type": "code",
   "execution_count": 1,
   "id": "72a23b04-51ea-42c5-a892-86186908ae34",
   "metadata": {},
   "outputs": [],
   "source": [
    "# !pip install kaggle\n",
    "import kaggle"
   ]
  },
  {
   "cell_type": "markdown",
   "id": "c04997e3-90c2-451c-8f81-fdaabf487f1c",
   "metadata": {},
   "source": [
    "#### ***Download the dataset***"
   ]
  },
  {
   "cell_type": "code",
   "execution_count": 1,
   "id": "612131a2-36ce-4b4f-8659-629f18df500a",
   "metadata": {},
   "outputs": [
    {
     "name": "stdout",
     "output_type": "stream",
     "text": [
      "Warning: Looks like you're using an outdated API Version, please consider updating (server 1.7.4.2 / client 1.6.17)\n",
      "Dataset URL: https://www.kaggle.com/datasets/asaniczka/video-game-sales-2024\n",
      "License(s): ODC Attribution License (ODC-By)\n",
      "Downloading vgchartz-2024.csv.zip to C:\\Users\\lenovo\\Python jupyter\\innomatics\\project\n",
      "\n"
     ]
    },
    {
     "name": "stderr",
     "output_type": "stream",
     "text": [
      "\n",
      "  0%|          | 0.00/1.90M [00:00<?, ?B/s]\n",
      " 53%|#####2    | 1.00M/1.90M [00:00<00:00, 1.65MB/s]\n",
      "100%|##########| 1.90M/1.90M [00:00<00:00, 2.79MB/s]\n",
      "100%|##########| 1.90M/1.90M [00:00<00:00, 2.51MB/s]\n"
     ]
    }
   ],
   "source": [
    "!kaggle datasets download asaniczka/video-game-sales-2024 -f vgchartz-2024.csv"
   ]
  },
  {
   "cell_type": "markdown",
   "id": "31a815fa-a17c-402a-8c0b-9f5c21f0fa04",
   "metadata": {},
   "source": [
    "#### ***Extract the zip file***"
   ]
  },
  {
   "cell_type": "code",
   "execution_count": 2,
   "id": "ab35fe2a-a52e-40ea-ab04-8857000ed19f",
   "metadata": {},
   "outputs": [],
   "source": [
    "import zipfile\n",
    "zip_ref = zipfile.ZipFile(r'C:\\Users\\lenovo\\Python jupyter\\innomatics\\project\\vgchartz-2024.csv.zip')\n",
    "zip_ref.extractall() #extracts all files to dir\n",
    "zip_ref.close() # close the file"
   ]
  },
  {
   "cell_type": "code",
   "execution_count": 46,
   "id": "e052b7f8-723d-4db2-ad3a-6fbf84766a15",
   "metadata": {},
   "outputs": [],
   "source": [
    "import pandas as pd\n",
    "import numpy as np"
   ]
  },
  {
   "cell_type": "code",
   "execution_count": 47,
   "id": "510d43b7-4fab-4722-a7fd-52a4d5701b25",
   "metadata": {},
   "outputs": [],
   "source": [
    "df = pd.read_csv(r\"vgchartz-2024.csv\")"
   ]
  },
  {
   "cell_type": "code",
   "execution_count": 48,
   "id": "c8d70a94-8a93-4645-bb6a-da25b6e8b85e",
   "metadata": {},
   "outputs": [
    {
     "data": {
      "text/html": [
       "<div>\n",
       "<style scoped>\n",
       "    .dataframe tbody tr th:only-of-type {\n",
       "        vertical-align: middle;\n",
       "    }\n",
       "\n",
       "    .dataframe tbody tr th {\n",
       "        vertical-align: top;\n",
       "    }\n",
       "\n",
       "    .dataframe thead th {\n",
       "        text-align: right;\n",
       "    }\n",
       "</style>\n",
       "<table border=\"1\" class=\"dataframe\">\n",
       "  <thead>\n",
       "    <tr style=\"text-align: right;\">\n",
       "      <th></th>\n",
       "      <th>img</th>\n",
       "      <th>title</th>\n",
       "      <th>console</th>\n",
       "      <th>genre</th>\n",
       "      <th>publisher</th>\n",
       "      <th>developer</th>\n",
       "      <th>critic_score</th>\n",
       "      <th>total_sales</th>\n",
       "      <th>na_sales</th>\n",
       "      <th>jp_sales</th>\n",
       "      <th>pal_sales</th>\n",
       "      <th>other_sales</th>\n",
       "      <th>release_date</th>\n",
       "      <th>last_update</th>\n",
       "    </tr>\n",
       "  </thead>\n",
       "  <tbody>\n",
       "    <tr>\n",
       "      <th>0</th>\n",
       "      <td>/games/boxart/full_6510540AmericaFrontccc.jpg</td>\n",
       "      <td>Grand Theft Auto V</td>\n",
       "      <td>PS3</td>\n",
       "      <td>Action</td>\n",
       "      <td>Rockstar Games</td>\n",
       "      <td>Rockstar North</td>\n",
       "      <td>9.4</td>\n",
       "      <td>20.32</td>\n",
       "      <td>6.37</td>\n",
       "      <td>0.99</td>\n",
       "      <td>9.85</td>\n",
       "      <td>3.12</td>\n",
       "      <td>2013-09-17</td>\n",
       "      <td>NaN</td>\n",
       "    </tr>\n",
       "    <tr>\n",
       "      <th>1</th>\n",
       "      <td>/games/boxart/full_5563178AmericaFrontccc.jpg</td>\n",
       "      <td>Grand Theft Auto V</td>\n",
       "      <td>PS4</td>\n",
       "      <td>Action</td>\n",
       "      <td>Rockstar Games</td>\n",
       "      <td>Rockstar North</td>\n",
       "      <td>9.7</td>\n",
       "      <td>19.39</td>\n",
       "      <td>6.06</td>\n",
       "      <td>0.60</td>\n",
       "      <td>9.71</td>\n",
       "      <td>3.02</td>\n",
       "      <td>2014-11-18</td>\n",
       "      <td>2018-01-03</td>\n",
       "    </tr>\n",
       "    <tr>\n",
       "      <th>2</th>\n",
       "      <td>/games/boxart/827563ccc.jpg</td>\n",
       "      <td>Grand Theft Auto: Vice City</td>\n",
       "      <td>PS2</td>\n",
       "      <td>Action</td>\n",
       "      <td>Rockstar Games</td>\n",
       "      <td>Rockstar North</td>\n",
       "      <td>9.6</td>\n",
       "      <td>16.15</td>\n",
       "      <td>8.41</td>\n",
       "      <td>0.47</td>\n",
       "      <td>5.49</td>\n",
       "      <td>1.78</td>\n",
       "      <td>2002-10-28</td>\n",
       "      <td>NaN</td>\n",
       "    </tr>\n",
       "    <tr>\n",
       "      <th>3</th>\n",
       "      <td>/games/boxart/full_9218923AmericaFrontccc.jpg</td>\n",
       "      <td>Grand Theft Auto V</td>\n",
       "      <td>X360</td>\n",
       "      <td>Action</td>\n",
       "      <td>Rockstar Games</td>\n",
       "      <td>Rockstar North</td>\n",
       "      <td>NaN</td>\n",
       "      <td>15.86</td>\n",
       "      <td>9.06</td>\n",
       "      <td>0.06</td>\n",
       "      <td>5.33</td>\n",
       "      <td>1.42</td>\n",
       "      <td>2013-09-17</td>\n",
       "      <td>NaN</td>\n",
       "    </tr>\n",
       "    <tr>\n",
       "      <th>4</th>\n",
       "      <td>/games/boxart/full_4990510AmericaFrontccc.jpg</td>\n",
       "      <td>Call of Duty: Black Ops 3</td>\n",
       "      <td>PS4</td>\n",
       "      <td>Shooter</td>\n",
       "      <td>Activision</td>\n",
       "      <td>Treyarch</td>\n",
       "      <td>8.1</td>\n",
       "      <td>15.09</td>\n",
       "      <td>6.18</td>\n",
       "      <td>0.41</td>\n",
       "      <td>6.05</td>\n",
       "      <td>2.44</td>\n",
       "      <td>2015-11-06</td>\n",
       "      <td>2018-01-14</td>\n",
       "    </tr>\n",
       "    <tr>\n",
       "      <th>...</th>\n",
       "      <td>...</td>\n",
       "      <td>...</td>\n",
       "      <td>...</td>\n",
       "      <td>...</td>\n",
       "      <td>...</td>\n",
       "      <td>...</td>\n",
       "      <td>...</td>\n",
       "      <td>...</td>\n",
       "      <td>...</td>\n",
       "      <td>...</td>\n",
       "      <td>...</td>\n",
       "      <td>...</td>\n",
       "      <td>...</td>\n",
       "      <td>...</td>\n",
       "    </tr>\n",
       "    <tr>\n",
       "      <th>64011</th>\n",
       "      <td>/games/boxart/full_2779838AmericaFrontccc.jpg</td>\n",
       "      <td>XBlaze Lost: Memories</td>\n",
       "      <td>PC</td>\n",
       "      <td>Visual Novel</td>\n",
       "      <td>Aksys Games</td>\n",
       "      <td>Arc System Works</td>\n",
       "      <td>NaN</td>\n",
       "      <td>NaN</td>\n",
       "      <td>NaN</td>\n",
       "      <td>NaN</td>\n",
       "      <td>NaN</td>\n",
       "      <td>NaN</td>\n",
       "      <td>2016-08-11</td>\n",
       "      <td>2019-01-28</td>\n",
       "    </tr>\n",
       "    <tr>\n",
       "      <th>64012</th>\n",
       "      <td>/games/boxart/full_8031506AmericaFrontccc.jpg</td>\n",
       "      <td>Yoru, Tomosu</td>\n",
       "      <td>PS4</td>\n",
       "      <td>Visual Novel</td>\n",
       "      <td>Nippon Ichi Software</td>\n",
       "      <td>Nippon Ichi Software</td>\n",
       "      <td>NaN</td>\n",
       "      <td>NaN</td>\n",
       "      <td>NaN</td>\n",
       "      <td>NaN</td>\n",
       "      <td>NaN</td>\n",
       "      <td>NaN</td>\n",
       "      <td>2020-07-30</td>\n",
       "      <td>2020-05-09</td>\n",
       "    </tr>\n",
       "    <tr>\n",
       "      <th>64013</th>\n",
       "      <td>/games/boxart/full_6553045AmericaFrontccc.jpg</td>\n",
       "      <td>Yoru, Tomosu</td>\n",
       "      <td>NS</td>\n",
       "      <td>Visual Novel</td>\n",
       "      <td>Nippon Ichi Software</td>\n",
       "      <td>Nippon Ichi Software</td>\n",
       "      <td>NaN</td>\n",
       "      <td>NaN</td>\n",
       "      <td>NaN</td>\n",
       "      <td>NaN</td>\n",
       "      <td>NaN</td>\n",
       "      <td>NaN</td>\n",
       "      <td>2020-07-30</td>\n",
       "      <td>2020-05-09</td>\n",
       "    </tr>\n",
       "    <tr>\n",
       "      <th>64014</th>\n",
       "      <td>/games/boxart/full_6012940JapanFrontccc.png</td>\n",
       "      <td>Yunohana SpRING! ~Mellow Times~</td>\n",
       "      <td>NS</td>\n",
       "      <td>Visual Novel</td>\n",
       "      <td>Idea Factory</td>\n",
       "      <td>Otomate</td>\n",
       "      <td>NaN</td>\n",
       "      <td>NaN</td>\n",
       "      <td>NaN</td>\n",
       "      <td>NaN</td>\n",
       "      <td>NaN</td>\n",
       "      <td>NaN</td>\n",
       "      <td>2019-02-28</td>\n",
       "      <td>2019-02-24</td>\n",
       "    </tr>\n",
       "    <tr>\n",
       "      <th>64015</th>\n",
       "      <td>/games/boxart/default.jpg</td>\n",
       "      <td>Yurukill: The Calumniation Games</td>\n",
       "      <td>PS4</td>\n",
       "      <td>Visual Novel</td>\n",
       "      <td>Unknown</td>\n",
       "      <td>G.rev Ltd.</td>\n",
       "      <td>NaN</td>\n",
       "      <td>NaN</td>\n",
       "      <td>NaN</td>\n",
       "      <td>NaN</td>\n",
       "      <td>NaN</td>\n",
       "      <td>NaN</td>\n",
       "      <td>NaN</td>\n",
       "      <td>2023-09-29</td>\n",
       "    </tr>\n",
       "  </tbody>\n",
       "</table>\n",
       "<p>64016 rows × 14 columns</p>\n",
       "</div>"
      ],
      "text/plain": [
       "                                                 img  \\\n",
       "0      /games/boxart/full_6510540AmericaFrontccc.jpg   \n",
       "1      /games/boxart/full_5563178AmericaFrontccc.jpg   \n",
       "2                        /games/boxart/827563ccc.jpg   \n",
       "3      /games/boxart/full_9218923AmericaFrontccc.jpg   \n",
       "4      /games/boxart/full_4990510AmericaFrontccc.jpg   \n",
       "...                                              ...   \n",
       "64011  /games/boxart/full_2779838AmericaFrontccc.jpg   \n",
       "64012  /games/boxart/full_8031506AmericaFrontccc.jpg   \n",
       "64013  /games/boxart/full_6553045AmericaFrontccc.jpg   \n",
       "64014    /games/boxart/full_6012940JapanFrontccc.png   \n",
       "64015                      /games/boxart/default.jpg   \n",
       "\n",
       "                                  title console         genre  \\\n",
       "0                    Grand Theft Auto V     PS3        Action   \n",
       "1                    Grand Theft Auto V     PS4        Action   \n",
       "2           Grand Theft Auto: Vice City     PS2        Action   \n",
       "3                    Grand Theft Auto V    X360        Action   \n",
       "4             Call of Duty: Black Ops 3     PS4       Shooter   \n",
       "...                                 ...     ...           ...   \n",
       "64011             XBlaze Lost: Memories      PC  Visual Novel   \n",
       "64012                      Yoru, Tomosu     PS4  Visual Novel   \n",
       "64013                      Yoru, Tomosu      NS  Visual Novel   \n",
       "64014   Yunohana SpRING! ~Mellow Times~      NS  Visual Novel   \n",
       "64015  Yurukill: The Calumniation Games     PS4  Visual Novel   \n",
       "\n",
       "                  publisher             developer  critic_score  total_sales  \\\n",
       "0            Rockstar Games        Rockstar North           9.4        20.32   \n",
       "1            Rockstar Games        Rockstar North           9.7        19.39   \n",
       "2            Rockstar Games        Rockstar North           9.6        16.15   \n",
       "3            Rockstar Games        Rockstar North           NaN        15.86   \n",
       "4                Activision              Treyarch           8.1        15.09   \n",
       "...                     ...                   ...           ...          ...   \n",
       "64011           Aksys Games      Arc System Works           NaN          NaN   \n",
       "64012  Nippon Ichi Software  Nippon Ichi Software           NaN          NaN   \n",
       "64013  Nippon Ichi Software  Nippon Ichi Software           NaN          NaN   \n",
       "64014          Idea Factory               Otomate           NaN          NaN   \n",
       "64015               Unknown            G.rev Ltd.           NaN          NaN   \n",
       "\n",
       "       na_sales  jp_sales  pal_sales  other_sales release_date last_update  \n",
       "0          6.37      0.99       9.85         3.12   2013-09-17         NaN  \n",
       "1          6.06      0.60       9.71         3.02   2014-11-18  2018-01-03  \n",
       "2          8.41      0.47       5.49         1.78   2002-10-28         NaN  \n",
       "3          9.06      0.06       5.33         1.42   2013-09-17         NaN  \n",
       "4          6.18      0.41       6.05         2.44   2015-11-06  2018-01-14  \n",
       "...         ...       ...        ...          ...          ...         ...  \n",
       "64011       NaN       NaN        NaN          NaN   2016-08-11  2019-01-28  \n",
       "64012       NaN       NaN        NaN          NaN   2020-07-30  2020-05-09  \n",
       "64013       NaN       NaN        NaN          NaN   2020-07-30  2020-05-09  \n",
       "64014       NaN       NaN        NaN          NaN   2019-02-28  2019-02-24  \n",
       "64015       NaN       NaN        NaN          NaN          NaN  2023-09-29  \n",
       "\n",
       "[64016 rows x 14 columns]"
      ]
     },
     "execution_count": 48,
     "metadata": {},
     "output_type": "execute_result"
    }
   ],
   "source": [
    "df"
   ]
  },
  {
   "cell_type": "code",
   "execution_count": 49,
   "id": "48e2222f-a00d-4fb2-855f-c607e16bd30e",
   "metadata": {},
   "outputs": [
    {
     "name": "stdout",
     "output_type": "stream",
     "text": [
      "<class 'pandas.core.frame.DataFrame'>\n",
      "RangeIndex: 64016 entries, 0 to 64015\n",
      "Data columns (total 14 columns):\n",
      " #   Column        Non-Null Count  Dtype  \n",
      "---  ------        --------------  -----  \n",
      " 0   img           64016 non-null  object \n",
      " 1   title         64016 non-null  object \n",
      " 2   console       64016 non-null  object \n",
      " 3   genre         64016 non-null  object \n",
      " 4   publisher     64016 non-null  object \n",
      " 5   developer     63999 non-null  object \n",
      " 6   critic_score  6678 non-null   float64\n",
      " 7   total_sales   18922 non-null  float64\n",
      " 8   na_sales      12637 non-null  float64\n",
      " 9   jp_sales      6726 non-null   float64\n",
      " 10  pal_sales     12824 non-null  float64\n",
      " 11  other_sales   15128 non-null  float64\n",
      " 12  release_date  56965 non-null  object \n",
      " 13  last_update   17879 non-null  object \n",
      "dtypes: float64(6), object(8)\n",
      "memory usage: 6.8+ MB\n"
     ]
    }
   ],
   "source": [
    "df.info()"
   ]
  },
  {
   "cell_type": "code",
   "execution_count": 50,
   "id": "c14016a1-f57e-4bad-8e07-c945868eb694",
   "metadata": {},
   "outputs": [
    {
     "data": {
      "text/plain": [
       "(64016, 14)"
      ]
     },
     "execution_count": 50,
     "metadata": {},
     "output_type": "execute_result"
    }
   ],
   "source": [
    "df.shape"
   ]
  },
  {
   "cell_type": "code",
   "execution_count": 51,
   "id": "fb9ad42f-17cb-43fb-8faa-0b92687df3f1",
   "metadata": {},
   "outputs": [
    {
     "data": {
      "text/html": [
       "<div>\n",
       "<style scoped>\n",
       "    .dataframe tbody tr th:only-of-type {\n",
       "        vertical-align: middle;\n",
       "    }\n",
       "\n",
       "    .dataframe tbody tr th {\n",
       "        vertical-align: top;\n",
       "    }\n",
       "\n",
       "    .dataframe thead th {\n",
       "        text-align: right;\n",
       "    }\n",
       "</style>\n",
       "<table border=\"1\" class=\"dataframe\">\n",
       "  <thead>\n",
       "    <tr style=\"text-align: right;\">\n",
       "      <th></th>\n",
       "      <th>count</th>\n",
       "      <th>unique</th>\n",
       "      <th>top</th>\n",
       "      <th>freq</th>\n",
       "      <th>mean</th>\n",
       "      <th>std</th>\n",
       "      <th>min</th>\n",
       "      <th>25%</th>\n",
       "      <th>50%</th>\n",
       "      <th>75%</th>\n",
       "      <th>max</th>\n",
       "    </tr>\n",
       "  </thead>\n",
       "  <tbody>\n",
       "    <tr>\n",
       "      <th>img</th>\n",
       "      <td>64016</td>\n",
       "      <td>56177</td>\n",
       "      <td>/games/boxart/default.jpg</td>\n",
       "      <td>7810</td>\n",
       "      <td>NaN</td>\n",
       "      <td>NaN</td>\n",
       "      <td>NaN</td>\n",
       "      <td>NaN</td>\n",
       "      <td>NaN</td>\n",
       "      <td>NaN</td>\n",
       "      <td>NaN</td>\n",
       "    </tr>\n",
       "    <tr>\n",
       "      <th>title</th>\n",
       "      <td>64016</td>\n",
       "      <td>39798</td>\n",
       "      <td>Plants vs. Zombies</td>\n",
       "      <td>17</td>\n",
       "      <td>NaN</td>\n",
       "      <td>NaN</td>\n",
       "      <td>NaN</td>\n",
       "      <td>NaN</td>\n",
       "      <td>NaN</td>\n",
       "      <td>NaN</td>\n",
       "      <td>NaN</td>\n",
       "    </tr>\n",
       "    <tr>\n",
       "      <th>console</th>\n",
       "      <td>64016</td>\n",
       "      <td>81</td>\n",
       "      <td>PC</td>\n",
       "      <td>12617</td>\n",
       "      <td>NaN</td>\n",
       "      <td>NaN</td>\n",
       "      <td>NaN</td>\n",
       "      <td>NaN</td>\n",
       "      <td>NaN</td>\n",
       "      <td>NaN</td>\n",
       "      <td>NaN</td>\n",
       "    </tr>\n",
       "    <tr>\n",
       "      <th>genre</th>\n",
       "      <td>64016</td>\n",
       "      <td>20</td>\n",
       "      <td>Misc</td>\n",
       "      <td>9304</td>\n",
       "      <td>NaN</td>\n",
       "      <td>NaN</td>\n",
       "      <td>NaN</td>\n",
       "      <td>NaN</td>\n",
       "      <td>NaN</td>\n",
       "      <td>NaN</td>\n",
       "      <td>NaN</td>\n",
       "    </tr>\n",
       "    <tr>\n",
       "      <th>publisher</th>\n",
       "      <td>64016</td>\n",
       "      <td>3383</td>\n",
       "      <td>Unknown</td>\n",
       "      <td>8842</td>\n",
       "      <td>NaN</td>\n",
       "      <td>NaN</td>\n",
       "      <td>NaN</td>\n",
       "      <td>NaN</td>\n",
       "      <td>NaN</td>\n",
       "      <td>NaN</td>\n",
       "      <td>NaN</td>\n",
       "    </tr>\n",
       "    <tr>\n",
       "      <th>developer</th>\n",
       "      <td>63999</td>\n",
       "      <td>8862</td>\n",
       "      <td>Unknown</td>\n",
       "      <td>4435</td>\n",
       "      <td>NaN</td>\n",
       "      <td>NaN</td>\n",
       "      <td>NaN</td>\n",
       "      <td>NaN</td>\n",
       "      <td>NaN</td>\n",
       "      <td>NaN</td>\n",
       "      <td>NaN</td>\n",
       "    </tr>\n",
       "    <tr>\n",
       "      <th>critic_score</th>\n",
       "      <td>6678.0</td>\n",
       "      <td>NaN</td>\n",
       "      <td>NaN</td>\n",
       "      <td>NaN</td>\n",
       "      <td>7.22044</td>\n",
       "      <td>1.457066</td>\n",
       "      <td>1.0</td>\n",
       "      <td>6.4</td>\n",
       "      <td>7.5</td>\n",
       "      <td>8.3</td>\n",
       "      <td>10.0</td>\n",
       "    </tr>\n",
       "    <tr>\n",
       "      <th>total_sales</th>\n",
       "      <td>18922.0</td>\n",
       "      <td>NaN</td>\n",
       "      <td>NaN</td>\n",
       "      <td>NaN</td>\n",
       "      <td>0.349113</td>\n",
       "      <td>0.807462</td>\n",
       "      <td>0.0</td>\n",
       "      <td>0.03</td>\n",
       "      <td>0.12</td>\n",
       "      <td>0.34</td>\n",
       "      <td>20.32</td>\n",
       "    </tr>\n",
       "    <tr>\n",
       "      <th>na_sales</th>\n",
       "      <td>12637.0</td>\n",
       "      <td>NaN</td>\n",
       "      <td>NaN</td>\n",
       "      <td>NaN</td>\n",
       "      <td>0.26474</td>\n",
       "      <td>0.494787</td>\n",
       "      <td>0.0</td>\n",
       "      <td>0.05</td>\n",
       "      <td>0.12</td>\n",
       "      <td>0.28</td>\n",
       "      <td>9.76</td>\n",
       "    </tr>\n",
       "    <tr>\n",
       "      <th>jp_sales</th>\n",
       "      <td>6726.0</td>\n",
       "      <td>NaN</td>\n",
       "      <td>NaN</td>\n",
       "      <td>NaN</td>\n",
       "      <td>0.102281</td>\n",
       "      <td>0.168811</td>\n",
       "      <td>0.0</td>\n",
       "      <td>0.02</td>\n",
       "      <td>0.04</td>\n",
       "      <td>0.12</td>\n",
       "      <td>2.13</td>\n",
       "    </tr>\n",
       "    <tr>\n",
       "      <th>pal_sales</th>\n",
       "      <td>12824.0</td>\n",
       "      <td>NaN</td>\n",
       "      <td>NaN</td>\n",
       "      <td>NaN</td>\n",
       "      <td>0.149472</td>\n",
       "      <td>0.392653</td>\n",
       "      <td>0.0</td>\n",
       "      <td>0.01</td>\n",
       "      <td>0.04</td>\n",
       "      <td>0.14</td>\n",
       "      <td>9.85</td>\n",
       "    </tr>\n",
       "    <tr>\n",
       "      <th>other_sales</th>\n",
       "      <td>15128.0</td>\n",
       "      <td>NaN</td>\n",
       "      <td>NaN</td>\n",
       "      <td>NaN</td>\n",
       "      <td>0.043041</td>\n",
       "      <td>0.126643</td>\n",
       "      <td>0.0</td>\n",
       "      <td>0.0</td>\n",
       "      <td>0.01</td>\n",
       "      <td>0.03</td>\n",
       "      <td>3.12</td>\n",
       "    </tr>\n",
       "    <tr>\n",
       "      <th>release_date</th>\n",
       "      <td>56965</td>\n",
       "      <td>7922</td>\n",
       "      <td>1994-01-01</td>\n",
       "      <td>515</td>\n",
       "      <td>NaN</td>\n",
       "      <td>NaN</td>\n",
       "      <td>NaN</td>\n",
       "      <td>NaN</td>\n",
       "      <td>NaN</td>\n",
       "      <td>NaN</td>\n",
       "      <td>NaN</td>\n",
       "    </tr>\n",
       "    <tr>\n",
       "      <th>last_update</th>\n",
       "      <td>17879</td>\n",
       "      <td>1545</td>\n",
       "      <td>2018-01-06</td>\n",
       "      <td>165</td>\n",
       "      <td>NaN</td>\n",
       "      <td>NaN</td>\n",
       "      <td>NaN</td>\n",
       "      <td>NaN</td>\n",
       "      <td>NaN</td>\n",
       "      <td>NaN</td>\n",
       "      <td>NaN</td>\n",
       "    </tr>\n",
       "  </tbody>\n",
       "</table>\n",
       "</div>"
      ],
      "text/plain": [
       "                count unique                        top   freq      mean  \\\n",
       "img             64016  56177  /games/boxart/default.jpg   7810       NaN   \n",
       "title           64016  39798         Plants vs. Zombies     17       NaN   \n",
       "console         64016     81                         PC  12617       NaN   \n",
       "genre           64016     20                       Misc   9304       NaN   \n",
       "publisher       64016   3383                    Unknown   8842       NaN   \n",
       "developer       63999   8862                    Unknown   4435       NaN   \n",
       "critic_score   6678.0    NaN                        NaN    NaN   7.22044   \n",
       "total_sales   18922.0    NaN                        NaN    NaN  0.349113   \n",
       "na_sales      12637.0    NaN                        NaN    NaN   0.26474   \n",
       "jp_sales       6726.0    NaN                        NaN    NaN  0.102281   \n",
       "pal_sales     12824.0    NaN                        NaN    NaN  0.149472   \n",
       "other_sales   15128.0    NaN                        NaN    NaN  0.043041   \n",
       "release_date    56965   7922                 1994-01-01    515       NaN   \n",
       "last_update     17879   1545                 2018-01-06    165       NaN   \n",
       "\n",
       "                   std  min   25%   50%   75%    max  \n",
       "img                NaN  NaN   NaN   NaN   NaN    NaN  \n",
       "title              NaN  NaN   NaN   NaN   NaN    NaN  \n",
       "console            NaN  NaN   NaN   NaN   NaN    NaN  \n",
       "genre              NaN  NaN   NaN   NaN   NaN    NaN  \n",
       "publisher          NaN  NaN   NaN   NaN   NaN    NaN  \n",
       "developer          NaN  NaN   NaN   NaN   NaN    NaN  \n",
       "critic_score  1.457066  1.0   6.4   7.5   8.3   10.0  \n",
       "total_sales   0.807462  0.0  0.03  0.12  0.34  20.32  \n",
       "na_sales      0.494787  0.0  0.05  0.12  0.28   9.76  \n",
       "jp_sales      0.168811  0.0  0.02  0.04  0.12   2.13  \n",
       "pal_sales     0.392653  0.0  0.01  0.04  0.14   9.85  \n",
       "other_sales   0.126643  0.0   0.0  0.01  0.03   3.12  \n",
       "release_date       NaN  NaN   NaN   NaN   NaN    NaN  \n",
       "last_update        NaN  NaN   NaN   NaN   NaN    NaN  "
      ]
     },
     "execution_count": 51,
     "metadata": {},
     "output_type": "execute_result"
    }
   ],
   "source": [
    "df.describe(include='all').T"
   ]
  },
  {
   "cell_type": "code",
   "execution_count": 52,
   "id": "d253bca8-8634-4053-bce8-837054ed4e23",
   "metadata": {},
   "outputs": [
    {
     "data": {
      "text/plain": [
       "img                 0\n",
       "title               0\n",
       "console             0\n",
       "genre               0\n",
       "publisher           0\n",
       "developer          17\n",
       "critic_score    57338\n",
       "total_sales     45094\n",
       "na_sales        51379\n",
       "jp_sales        57290\n",
       "pal_sales       51192\n",
       "other_sales     48888\n",
       "release_date     7051\n",
       "last_update     46137\n",
       "dtype: int64"
      ]
     },
     "execution_count": 52,
     "metadata": {},
     "output_type": "execute_result"
    }
   ],
   "source": [
    "df.isnull().sum()"
   ]
  },
  {
   "cell_type": "code",
   "execution_count": 53,
   "id": "10a97715-28e3-4658-8914-a8c90b63abfc",
   "metadata": {},
   "outputs": [
    {
     "data": {
      "text/plain": [
       "Index(['img', 'title', 'console', 'genre', 'publisher', 'developer',\n",
       "       'critic_score', 'total_sales', 'na_sales', 'jp_sales', 'pal_sales',\n",
       "       'other_sales', 'release_date', 'last_update'],\n",
       "      dtype='object')"
      ]
     },
     "execution_count": 53,
     "metadata": {},
     "output_type": "execute_result"
    }
   ],
   "source": [
    "df.columns"
   ]
  },
  {
   "cell_type": "code",
   "execution_count": 54,
   "id": "31ee1036-89c2-4364-91ae-0d4a27f03039",
   "metadata": {},
   "outputs": [
    {
     "data": {
      "text/plain": [
       "0.0"
      ]
     },
     "execution_count": 54,
     "metadata": {},
     "output_type": "execute_result"
    }
   ],
   "source": [
    "df['total_sales'].min()"
   ]
  },
  {
   "cell_type": "markdown",
   "id": "2d1af109-1e27-461d-905a-5f7e7d36a0ac",
   "metadata": {},
   "source": [
    "#### ***1. Droping the 'img' and 'last_update' columns***"
   ]
  },
  {
   "cell_type": "code",
   "execution_count": 55,
   "id": "89889c2f-dd31-4c18-b498-c5aac613b69f",
   "metadata": {},
   "outputs": [],
   "source": [
    "df = df.drop(columns=[\"img\", \"last_update\"], axis=1)"
   ]
  },
  {
   "cell_type": "code",
   "execution_count": 56,
   "id": "0ccd6802-6f31-48c7-a52b-a6873933aab6",
   "metadata": {},
   "outputs": [
    {
     "data": {
      "text/html": [
       "<div>\n",
       "<style scoped>\n",
       "    .dataframe tbody tr th:only-of-type {\n",
       "        vertical-align: middle;\n",
       "    }\n",
       "\n",
       "    .dataframe tbody tr th {\n",
       "        vertical-align: top;\n",
       "    }\n",
       "\n",
       "    .dataframe thead th {\n",
       "        text-align: right;\n",
       "    }\n",
       "</style>\n",
       "<table border=\"1\" class=\"dataframe\">\n",
       "  <thead>\n",
       "    <tr style=\"text-align: right;\">\n",
       "      <th></th>\n",
       "      <th>title</th>\n",
       "      <th>console</th>\n",
       "      <th>genre</th>\n",
       "      <th>publisher</th>\n",
       "      <th>developer</th>\n",
       "      <th>critic_score</th>\n",
       "      <th>total_sales</th>\n",
       "      <th>na_sales</th>\n",
       "      <th>jp_sales</th>\n",
       "      <th>pal_sales</th>\n",
       "      <th>other_sales</th>\n",
       "      <th>release_date</th>\n",
       "    </tr>\n",
       "  </thead>\n",
       "  <tbody>\n",
       "    <tr>\n",
       "      <th>0</th>\n",
       "      <td>Grand Theft Auto V</td>\n",
       "      <td>PS3</td>\n",
       "      <td>Action</td>\n",
       "      <td>Rockstar Games</td>\n",
       "      <td>Rockstar North</td>\n",
       "      <td>9.4</td>\n",
       "      <td>20.32</td>\n",
       "      <td>6.37</td>\n",
       "      <td>0.99</td>\n",
       "      <td>9.85</td>\n",
       "      <td>3.12</td>\n",
       "      <td>2013-09-17</td>\n",
       "    </tr>\n",
       "    <tr>\n",
       "      <th>1</th>\n",
       "      <td>Grand Theft Auto V</td>\n",
       "      <td>PS4</td>\n",
       "      <td>Action</td>\n",
       "      <td>Rockstar Games</td>\n",
       "      <td>Rockstar North</td>\n",
       "      <td>9.7</td>\n",
       "      <td>19.39</td>\n",
       "      <td>6.06</td>\n",
       "      <td>0.60</td>\n",
       "      <td>9.71</td>\n",
       "      <td>3.02</td>\n",
       "      <td>2014-11-18</td>\n",
       "    </tr>\n",
       "    <tr>\n",
       "      <th>2</th>\n",
       "      <td>Grand Theft Auto: Vice City</td>\n",
       "      <td>PS2</td>\n",
       "      <td>Action</td>\n",
       "      <td>Rockstar Games</td>\n",
       "      <td>Rockstar North</td>\n",
       "      <td>9.6</td>\n",
       "      <td>16.15</td>\n",
       "      <td>8.41</td>\n",
       "      <td>0.47</td>\n",
       "      <td>5.49</td>\n",
       "      <td>1.78</td>\n",
       "      <td>2002-10-28</td>\n",
       "    </tr>\n",
       "    <tr>\n",
       "      <th>3</th>\n",
       "      <td>Grand Theft Auto V</td>\n",
       "      <td>X360</td>\n",
       "      <td>Action</td>\n",
       "      <td>Rockstar Games</td>\n",
       "      <td>Rockstar North</td>\n",
       "      <td>NaN</td>\n",
       "      <td>15.86</td>\n",
       "      <td>9.06</td>\n",
       "      <td>0.06</td>\n",
       "      <td>5.33</td>\n",
       "      <td>1.42</td>\n",
       "      <td>2013-09-17</td>\n",
       "    </tr>\n",
       "    <tr>\n",
       "      <th>4</th>\n",
       "      <td>Call of Duty: Black Ops 3</td>\n",
       "      <td>PS4</td>\n",
       "      <td>Shooter</td>\n",
       "      <td>Activision</td>\n",
       "      <td>Treyarch</td>\n",
       "      <td>8.1</td>\n",
       "      <td>15.09</td>\n",
       "      <td>6.18</td>\n",
       "      <td>0.41</td>\n",
       "      <td>6.05</td>\n",
       "      <td>2.44</td>\n",
       "      <td>2015-11-06</td>\n",
       "    </tr>\n",
       "    <tr>\n",
       "      <th>5</th>\n",
       "      <td>Call of Duty: Modern Warfare 3</td>\n",
       "      <td>X360</td>\n",
       "      <td>Shooter</td>\n",
       "      <td>Activision</td>\n",
       "      <td>Infinity Ward</td>\n",
       "      <td>8.7</td>\n",
       "      <td>14.82</td>\n",
       "      <td>9.07</td>\n",
       "      <td>0.13</td>\n",
       "      <td>4.29</td>\n",
       "      <td>1.33</td>\n",
       "      <td>2011-11-08</td>\n",
       "    </tr>\n",
       "    <tr>\n",
       "      <th>6</th>\n",
       "      <td>Call of Duty: Black Ops</td>\n",
       "      <td>X360</td>\n",
       "      <td>Shooter</td>\n",
       "      <td>Activision</td>\n",
       "      <td>Treyarch</td>\n",
       "      <td>8.8</td>\n",
       "      <td>14.74</td>\n",
       "      <td>9.76</td>\n",
       "      <td>0.11</td>\n",
       "      <td>3.73</td>\n",
       "      <td>1.14</td>\n",
       "      <td>2010-11-09</td>\n",
       "    </tr>\n",
       "    <tr>\n",
       "      <th>7</th>\n",
       "      <td>Red Dead Redemption 2</td>\n",
       "      <td>PS4</td>\n",
       "      <td>Action-Adventure</td>\n",
       "      <td>Rockstar Games</td>\n",
       "      <td>Rockstar Games</td>\n",
       "      <td>9.8</td>\n",
       "      <td>13.94</td>\n",
       "      <td>5.26</td>\n",
       "      <td>0.21</td>\n",
       "      <td>6.21</td>\n",
       "      <td>2.26</td>\n",
       "      <td>2018-10-26</td>\n",
       "    </tr>\n",
       "    <tr>\n",
       "      <th>8</th>\n",
       "      <td>Call of Duty: Black Ops II</td>\n",
       "      <td>X360</td>\n",
       "      <td>Shooter</td>\n",
       "      <td>Activision</td>\n",
       "      <td>Treyarch</td>\n",
       "      <td>8.4</td>\n",
       "      <td>13.86</td>\n",
       "      <td>8.27</td>\n",
       "      <td>0.07</td>\n",
       "      <td>4.32</td>\n",
       "      <td>1.20</td>\n",
       "      <td>2012-11-13</td>\n",
       "    </tr>\n",
       "    <tr>\n",
       "      <th>9</th>\n",
       "      <td>Call of Duty: Black Ops II</td>\n",
       "      <td>PS3</td>\n",
       "      <td>Shooter</td>\n",
       "      <td>Activision</td>\n",
       "      <td>Treyarch</td>\n",
       "      <td>8.0</td>\n",
       "      <td>13.80</td>\n",
       "      <td>4.99</td>\n",
       "      <td>0.65</td>\n",
       "      <td>5.88</td>\n",
       "      <td>2.28</td>\n",
       "      <td>2012-11-13</td>\n",
       "    </tr>\n",
       "  </tbody>\n",
       "</table>\n",
       "</div>"
      ],
      "text/plain": [
       "                            title console             genre       publisher  \\\n",
       "0              Grand Theft Auto V     PS3            Action  Rockstar Games   \n",
       "1              Grand Theft Auto V     PS4            Action  Rockstar Games   \n",
       "2     Grand Theft Auto: Vice City     PS2            Action  Rockstar Games   \n",
       "3              Grand Theft Auto V    X360            Action  Rockstar Games   \n",
       "4       Call of Duty: Black Ops 3     PS4           Shooter      Activision   \n",
       "5  Call of Duty: Modern Warfare 3    X360           Shooter      Activision   \n",
       "6         Call of Duty: Black Ops    X360           Shooter      Activision   \n",
       "7           Red Dead Redemption 2     PS4  Action-Adventure  Rockstar Games   \n",
       "8      Call of Duty: Black Ops II    X360           Shooter      Activision   \n",
       "9      Call of Duty: Black Ops II     PS3           Shooter      Activision   \n",
       "\n",
       "        developer  critic_score  total_sales  na_sales  jp_sales  pal_sales  \\\n",
       "0  Rockstar North           9.4        20.32      6.37      0.99       9.85   \n",
       "1  Rockstar North           9.7        19.39      6.06      0.60       9.71   \n",
       "2  Rockstar North           9.6        16.15      8.41      0.47       5.49   \n",
       "3  Rockstar North           NaN        15.86      9.06      0.06       5.33   \n",
       "4        Treyarch           8.1        15.09      6.18      0.41       6.05   \n",
       "5   Infinity Ward           8.7        14.82      9.07      0.13       4.29   \n",
       "6        Treyarch           8.8        14.74      9.76      0.11       3.73   \n",
       "7  Rockstar Games           9.8        13.94      5.26      0.21       6.21   \n",
       "8        Treyarch           8.4        13.86      8.27      0.07       4.32   \n",
       "9        Treyarch           8.0        13.80      4.99      0.65       5.88   \n",
       "\n",
       "   other_sales release_date  \n",
       "0         3.12   2013-09-17  \n",
       "1         3.02   2014-11-18  \n",
       "2         1.78   2002-10-28  \n",
       "3         1.42   2013-09-17  \n",
       "4         2.44   2015-11-06  \n",
       "5         1.33   2011-11-08  \n",
       "6         1.14   2010-11-09  \n",
       "7         2.26   2018-10-26  \n",
       "8         1.20   2012-11-13  \n",
       "9         2.28   2012-11-13  "
      ]
     },
     "execution_count": 56,
     "metadata": {},
     "output_type": "execute_result"
    }
   ],
   "source": [
    "df.head(10)"
   ]
  },
  {
   "cell_type": "markdown",
   "id": "248cd5d4-98aa-48a8-8567-3542931e3b31",
   "metadata": {},
   "source": [
    "#### ***2. Changing column names***"
   ]
  },
  {
   "cell_type": "code",
   "execution_count": 57,
   "id": "34f5592b-3fd8-48a6-8efe-464c15ad7488",
   "metadata": {},
   "outputs": [],
   "source": [
    "df.rename(columns={\n",
    "    'title': 'Title',\n",
    "    'console': 'Platform',\n",
    "    'genre': 'Genre',\n",
    "    'publisher': 'Publisher',\n",
    "    'developer': 'Developer',\n",
    "    'critic_score': 'Rating',\n",
    "    'total_sales': 'Total Sales',\n",
    "    'na_sales': 'North America Sales',\n",
    "    'jp_sales': 'Japan Sales',\n",
    "    'pal_sales': 'PAL Region Sales',\n",
    "    'other_sales': 'Other Regions Sales',\n",
    "    'release_date': 'Release Date'\n",
    "}, inplace=True)"
   ]
  },
  {
   "cell_type": "code",
   "execution_count": 58,
   "id": "152a0982-ef3e-4552-8067-325e3fa22b90",
   "metadata": {},
   "outputs": [
    {
     "data": {
      "text/plain": [
       "Index(['Title', 'Platform', 'Genre', 'Publisher', 'Developer', 'Rating',\n",
       "       'Total Sales', 'North America Sales', 'Japan Sales', 'PAL Region Sales',\n",
       "       'Other Regions Sales', 'Release Date'],\n",
       "      dtype='object')"
      ]
     },
     "execution_count": 58,
     "metadata": {},
     "output_type": "execute_result"
    }
   ],
   "source": [
    "df.columns"
   ]
  },
  {
   "cell_type": "code",
   "execution_count": 59,
   "id": "57084c67-3b03-4579-9be2-57c37e1843fa",
   "metadata": {},
   "outputs": [
    {
     "data": {
      "text/plain": [
       "0.02655586103474131"
      ]
     },
     "execution_count": 59,
     "metadata": {},
     "output_type": "execute_result"
    }
   ],
   "source": [
    "df['Developer'].isna().mean() * 100"
   ]
  },
  {
   "cell_type": "markdown",
   "id": "57174b53-2241-4857-8f0c-6c7b4d0f36a3",
   "metadata": {},
   "source": [
    "#### ***4. Dropping the rows in 'Developer' column because the percentage of nan values is less than 1%***"
   ]
  },
  {
   "cell_type": "code",
   "execution_count": 60,
   "id": "f2cbb3fb-5e3d-4a33-8ee2-5c8a0b199ba5",
   "metadata": {},
   "outputs": [],
   "source": [
    "df.dropna(subset=['Developer'], inplace=True)"
   ]
  },
  {
   "cell_type": "code",
   "execution_count": 61,
   "id": "e8e0e901-153b-47f4-ab82-9aac4e7197da",
   "metadata": {},
   "outputs": [
    {
     "data": {
      "text/plain": [
       "0"
      ]
     },
     "execution_count": 61,
     "metadata": {},
     "output_type": "execute_result"
    }
   ],
   "source": [
    "df['Developer'].isna().sum()"
   ]
  },
  {
   "cell_type": "markdown",
   "id": "e3a38e78-346c-4867-8376-a51dfb1c13a9",
   "metadata": {},
   "source": [
    "#### ***5. Replacing NaN values with mean because mean and median have almost same value in 'Rating' column***"
   ]
  },
  {
   "cell_type": "code",
   "execution_count": 62,
   "id": "97a73441-63a9-40de-985e-c3b92c8df223",
   "metadata": {},
   "outputs": [
    {
     "data": {
      "text/plain": [
       "count    6678.000000\n",
       "mean        7.220440\n",
       "std         1.457066\n",
       "min         1.000000\n",
       "25%         6.400000\n",
       "50%         7.500000\n",
       "75%         8.300000\n",
       "max        10.000000\n",
       "Name: Rating, dtype: float64"
      ]
     },
     "execution_count": 62,
     "metadata": {},
     "output_type": "execute_result"
    }
   ],
   "source": [
    "df['Rating'].describe()"
   ]
  },
  {
   "cell_type": "code",
   "execution_count": 63,
   "id": "8982d0e1-db9d-418a-8666-d1dc07a7e621",
   "metadata": {},
   "outputs": [],
   "source": [
    "df['Rating'] = df['Rating'].fillna(df['Rating'].mean().round(2))"
   ]
  },
  {
   "cell_type": "code",
   "execution_count": 64,
   "id": "5a8a0b67-8edb-478e-9fe6-b39c5117ee79",
   "metadata": {},
   "outputs": [
    {
     "data": {
      "text/plain": [
       "0"
      ]
     },
     "execution_count": 64,
     "metadata": {},
     "output_type": "execute_result"
    }
   ],
   "source": [
    "df['Rating'].isna().sum()"
   ]
  },
  {
   "cell_type": "markdown",
   "id": "6e574d8c-8fda-48c1-91ec-ea24a431714a",
   "metadata": {},
   "source": [
    "#### ***6. Replacing NaN values with median in 'North America Sales', 'Japan Sales', 'PAL Region Sales' and 'Other Regions Sales'   columns***"
   ]
  },
  {
   "cell_type": "code",
   "execution_count": 65,
   "id": "b3f9408d-aa0e-4e18-bce0-aaf1e30b034c",
   "metadata": {},
   "outputs": [
    {
     "data": {
      "text/html": [
       "<div>\n",
       "<style scoped>\n",
       "    .dataframe tbody tr th:only-of-type {\n",
       "        vertical-align: middle;\n",
       "    }\n",
       "\n",
       "    .dataframe tbody tr th {\n",
       "        vertical-align: top;\n",
       "    }\n",
       "\n",
       "    .dataframe thead th {\n",
       "        text-align: right;\n",
       "    }\n",
       "</style>\n",
       "<table border=\"1\" class=\"dataframe\">\n",
       "  <thead>\n",
       "    <tr style=\"text-align: right;\">\n",
       "      <th></th>\n",
       "      <th>Rating</th>\n",
       "      <th>Total Sales</th>\n",
       "      <th>North America Sales</th>\n",
       "      <th>Japan Sales</th>\n",
       "      <th>PAL Region Sales</th>\n",
       "      <th>Other Regions Sales</th>\n",
       "    </tr>\n",
       "  </thead>\n",
       "  <tbody>\n",
       "    <tr>\n",
       "      <th>count</th>\n",
       "      <td>63999.000000</td>\n",
       "      <td>18918.000000</td>\n",
       "      <td>12635.000000</td>\n",
       "      <td>6726.000000</td>\n",
       "      <td>12821.000000</td>\n",
       "      <td>15125.000000</td>\n",
       "    </tr>\n",
       "    <tr>\n",
       "      <th>mean</th>\n",
       "      <td>7.220046</td>\n",
       "      <td>0.349174</td>\n",
       "      <td>0.264765</td>\n",
       "      <td>0.102281</td>\n",
       "      <td>0.149507</td>\n",
       "      <td>0.043048</td>\n",
       "    </tr>\n",
       "    <tr>\n",
       "      <th>std</th>\n",
       "      <td>0.470638</td>\n",
       "      <td>0.807536</td>\n",
       "      <td>0.494822</td>\n",
       "      <td>0.168811</td>\n",
       "      <td>0.392692</td>\n",
       "      <td>0.126655</td>\n",
       "    </tr>\n",
       "    <tr>\n",
       "      <th>min</th>\n",
       "      <td>1.000000</td>\n",
       "      <td>0.000000</td>\n",
       "      <td>0.000000</td>\n",
       "      <td>0.000000</td>\n",
       "      <td>0.000000</td>\n",
       "      <td>0.000000</td>\n",
       "    </tr>\n",
       "    <tr>\n",
       "      <th>25%</th>\n",
       "      <td>7.220000</td>\n",
       "      <td>0.030000</td>\n",
       "      <td>0.050000</td>\n",
       "      <td>0.020000</td>\n",
       "      <td>0.010000</td>\n",
       "      <td>0.000000</td>\n",
       "    </tr>\n",
       "    <tr>\n",
       "      <th>50%</th>\n",
       "      <td>7.220000</td>\n",
       "      <td>0.120000</td>\n",
       "      <td>0.120000</td>\n",
       "      <td>0.040000</td>\n",
       "      <td>0.040000</td>\n",
       "      <td>0.010000</td>\n",
       "    </tr>\n",
       "    <tr>\n",
       "      <th>75%</th>\n",
       "      <td>7.220000</td>\n",
       "      <td>0.347500</td>\n",
       "      <td>0.280000</td>\n",
       "      <td>0.120000</td>\n",
       "      <td>0.140000</td>\n",
       "      <td>0.030000</td>\n",
       "    </tr>\n",
       "    <tr>\n",
       "      <th>max</th>\n",
       "      <td>10.000000</td>\n",
       "      <td>20.320000</td>\n",
       "      <td>9.760000</td>\n",
       "      <td>2.130000</td>\n",
       "      <td>9.850000</td>\n",
       "      <td>3.120000</td>\n",
       "    </tr>\n",
       "  </tbody>\n",
       "</table>\n",
       "</div>"
      ],
      "text/plain": [
       "             Rating   Total Sales  North America Sales  Japan Sales  \\\n",
       "count  63999.000000  18918.000000         12635.000000  6726.000000   \n",
       "mean       7.220046      0.349174             0.264765     0.102281   \n",
       "std        0.470638      0.807536             0.494822     0.168811   \n",
       "min        1.000000      0.000000             0.000000     0.000000   \n",
       "25%        7.220000      0.030000             0.050000     0.020000   \n",
       "50%        7.220000      0.120000             0.120000     0.040000   \n",
       "75%        7.220000      0.347500             0.280000     0.120000   \n",
       "max       10.000000     20.320000             9.760000     2.130000   \n",
       "\n",
       "       PAL Region Sales  Other Regions Sales  \n",
       "count      12821.000000         15125.000000  \n",
       "mean           0.149507             0.043048  \n",
       "std            0.392692             0.126655  \n",
       "min            0.000000             0.000000  \n",
       "25%            0.010000             0.000000  \n",
       "50%            0.040000             0.010000  \n",
       "75%            0.140000             0.030000  \n",
       "max            9.850000             3.120000  "
      ]
     },
     "execution_count": 65,
     "metadata": {},
     "output_type": "execute_result"
    }
   ],
   "source": [
    "df.describe()"
   ]
  },
  {
   "cell_type": "code",
   "execution_count": 66,
   "id": "e75beda2-df5e-47d8-ac7c-294fe0efb1b0",
   "metadata": {},
   "outputs": [],
   "source": [
    "df['North America Sales'] = df['North America Sales'].fillna(df['North America Sales'].median())\n",
    "df['Japan Sales'] = df['Japan Sales'].fillna(df['Japan Sales'].median())\n",
    "df['PAL Region Sales'] = df['PAL Region Sales'].fillna(df['PAL Region Sales'].median())\n",
    "df['Other Regions Sales'] = df['Other Regions Sales'].fillna(df['Other Regions Sales'].median())"
   ]
  },
  {
   "cell_type": "code",
   "execution_count": 67,
   "id": "7880fb46-0a1d-4997-8600-f351a6ead40b",
   "metadata": {},
   "outputs": [
    {
     "data": {
      "text/plain": [
       "Title                      0\n",
       "Platform                   0\n",
       "Genre                      0\n",
       "Publisher                  0\n",
       "Developer                  0\n",
       "Rating                     0\n",
       "Total Sales            45081\n",
       "North America Sales        0\n",
       "Japan Sales                0\n",
       "PAL Region Sales           0\n",
       "Other Regions Sales        0\n",
       "Release Date            7045\n",
       "dtype: int64"
      ]
     },
     "execution_count": 67,
     "metadata": {},
     "output_type": "execute_result"
    }
   ],
   "source": [
    "df.isna().sum()"
   ]
  },
  {
   "cell_type": "markdown",
   "id": "6962777d-b37e-437c-b795-1cf6465b0299",
   "metadata": {},
   "source": [
    "#### ***7. Replacing NaN values in 'Total sales' column with sum of 'North America Sales', 'Japan Sales', 'PAL Region Sales', 'Other Regions Sales'***"
   ]
  },
  {
   "cell_type": "code",
   "execution_count": 68,
   "id": "3b3c4b90-a58d-48ff-b30a-f2fded52053f",
   "metadata": {},
   "outputs": [],
   "source": [
    "df['Total Sales'] = df['Total Sales'].fillna(\n",
    "    df['North America Sales'] + df['Japan Sales'] + df['PAL Region Sales'] + df['Other Regions Sales']\n",
    ")"
   ]
  },
  {
   "cell_type": "code",
   "execution_count": 69,
   "id": "d20bc538-c8ab-4476-a6a4-a0273afe2924",
   "metadata": {},
   "outputs": [
    {
     "data": {
      "text/html": [
       "<div>\n",
       "<style scoped>\n",
       "    .dataframe tbody tr th:only-of-type {\n",
       "        vertical-align: middle;\n",
       "    }\n",
       "\n",
       "    .dataframe tbody tr th {\n",
       "        vertical-align: top;\n",
       "    }\n",
       "\n",
       "    .dataframe thead th {\n",
       "        text-align: right;\n",
       "    }\n",
       "</style>\n",
       "<table border=\"1\" class=\"dataframe\">\n",
       "  <thead>\n",
       "    <tr style=\"text-align: right;\">\n",
       "      <th></th>\n",
       "      <th>Title</th>\n",
       "      <th>Total Sales</th>\n",
       "      <th>North America Sales</th>\n",
       "      <th>Japan Sales</th>\n",
       "      <th>PAL Region Sales</th>\n",
       "      <th>Other Regions Sales</th>\n",
       "    </tr>\n",
       "  </thead>\n",
       "  <tbody>\n",
       "    <tr>\n",
       "      <th>0</th>\n",
       "      <td>Grand Theft Auto V</td>\n",
       "      <td>20.32</td>\n",
       "      <td>6.37</td>\n",
       "      <td>0.99</td>\n",
       "      <td>9.85</td>\n",
       "      <td>3.12</td>\n",
       "    </tr>\n",
       "    <tr>\n",
       "      <th>1</th>\n",
       "      <td>Grand Theft Auto V</td>\n",
       "      <td>19.39</td>\n",
       "      <td>6.06</td>\n",
       "      <td>0.60</td>\n",
       "      <td>9.71</td>\n",
       "      <td>3.02</td>\n",
       "    </tr>\n",
       "    <tr>\n",
       "      <th>2</th>\n",
       "      <td>Grand Theft Auto: Vice City</td>\n",
       "      <td>16.15</td>\n",
       "      <td>8.41</td>\n",
       "      <td>0.47</td>\n",
       "      <td>5.49</td>\n",
       "      <td>1.78</td>\n",
       "    </tr>\n",
       "    <tr>\n",
       "      <th>3</th>\n",
       "      <td>Grand Theft Auto V</td>\n",
       "      <td>15.86</td>\n",
       "      <td>9.06</td>\n",
       "      <td>0.06</td>\n",
       "      <td>5.33</td>\n",
       "      <td>1.42</td>\n",
       "    </tr>\n",
       "    <tr>\n",
       "      <th>4</th>\n",
       "      <td>Call of Duty: Black Ops 3</td>\n",
       "      <td>15.09</td>\n",
       "      <td>6.18</td>\n",
       "      <td>0.41</td>\n",
       "      <td>6.05</td>\n",
       "      <td>2.44</td>\n",
       "    </tr>\n",
       "    <tr>\n",
       "      <th>...</th>\n",
       "      <td>...</td>\n",
       "      <td>...</td>\n",
       "      <td>...</td>\n",
       "      <td>...</td>\n",
       "      <td>...</td>\n",
       "      <td>...</td>\n",
       "    </tr>\n",
       "    <tr>\n",
       "      <th>64011</th>\n",
       "      <td>XBlaze Lost: Memories</td>\n",
       "      <td>0.21</td>\n",
       "      <td>0.12</td>\n",
       "      <td>0.04</td>\n",
       "      <td>0.04</td>\n",
       "      <td>0.01</td>\n",
       "    </tr>\n",
       "    <tr>\n",
       "      <th>64012</th>\n",
       "      <td>Yoru, Tomosu</td>\n",
       "      <td>0.21</td>\n",
       "      <td>0.12</td>\n",
       "      <td>0.04</td>\n",
       "      <td>0.04</td>\n",
       "      <td>0.01</td>\n",
       "    </tr>\n",
       "    <tr>\n",
       "      <th>64013</th>\n",
       "      <td>Yoru, Tomosu</td>\n",
       "      <td>0.21</td>\n",
       "      <td>0.12</td>\n",
       "      <td>0.04</td>\n",
       "      <td>0.04</td>\n",
       "      <td>0.01</td>\n",
       "    </tr>\n",
       "    <tr>\n",
       "      <th>64014</th>\n",
       "      <td>Yunohana SpRING! ~Mellow Times~</td>\n",
       "      <td>0.21</td>\n",
       "      <td>0.12</td>\n",
       "      <td>0.04</td>\n",
       "      <td>0.04</td>\n",
       "      <td>0.01</td>\n",
       "    </tr>\n",
       "    <tr>\n",
       "      <th>64015</th>\n",
       "      <td>Yurukill: The Calumniation Games</td>\n",
       "      <td>0.21</td>\n",
       "      <td>0.12</td>\n",
       "      <td>0.04</td>\n",
       "      <td>0.04</td>\n",
       "      <td>0.01</td>\n",
       "    </tr>\n",
       "  </tbody>\n",
       "</table>\n",
       "<p>63999 rows × 6 columns</p>\n",
       "</div>"
      ],
      "text/plain": [
       "                                  Title  Total Sales  North America Sales  \\\n",
       "0                    Grand Theft Auto V        20.32                 6.37   \n",
       "1                    Grand Theft Auto V        19.39                 6.06   \n",
       "2           Grand Theft Auto: Vice City        16.15                 8.41   \n",
       "3                    Grand Theft Auto V        15.86                 9.06   \n",
       "4             Call of Duty: Black Ops 3        15.09                 6.18   \n",
       "...                                 ...          ...                  ...   \n",
       "64011             XBlaze Lost: Memories         0.21                 0.12   \n",
       "64012                      Yoru, Tomosu         0.21                 0.12   \n",
       "64013                      Yoru, Tomosu         0.21                 0.12   \n",
       "64014   Yunohana SpRING! ~Mellow Times~         0.21                 0.12   \n",
       "64015  Yurukill: The Calumniation Games         0.21                 0.12   \n",
       "\n",
       "       Japan Sales  PAL Region Sales  Other Regions Sales  \n",
       "0             0.99              9.85                 3.12  \n",
       "1             0.60              9.71                 3.02  \n",
       "2             0.47              5.49                 1.78  \n",
       "3             0.06              5.33                 1.42  \n",
       "4             0.41              6.05                 2.44  \n",
       "...            ...               ...                  ...  \n",
       "64011         0.04              0.04                 0.01  \n",
       "64012         0.04              0.04                 0.01  \n",
       "64013         0.04              0.04                 0.01  \n",
       "64014         0.04              0.04                 0.01  \n",
       "64015         0.04              0.04                 0.01  \n",
       "\n",
       "[63999 rows x 6 columns]"
      ]
     },
     "execution_count": 69,
     "metadata": {},
     "output_type": "execute_result"
    }
   ],
   "source": [
    "df[['Title', 'Total Sales', 'North America Sales', 'Japan Sales', 'PAL Region Sales', 'Other Regions Sales']]"
   ]
  },
  {
   "cell_type": "code",
   "execution_count": 70,
   "id": "1440068e-1b2a-40f8-a6dd-000ffd3ba568",
   "metadata": {},
   "outputs": [
    {
     "data": {
      "text/plain": [
       "0"
      ]
     },
     "execution_count": 70,
     "metadata": {},
     "output_type": "execute_result"
    }
   ],
   "source": [
    "df['Total Sales'].isna().sum()"
   ]
  },
  {
   "cell_type": "markdown",
   "id": "fa8d6148-f9bb-451d-98ec-5b1e7e2a3154",
   "metadata": {},
   "source": [
    "#### ***8.Dropping the rows in 'Release Date' which contains NaN values***"
   ]
  },
  {
   "cell_type": "code",
   "execution_count": 71,
   "id": "d1590218-21a0-4aab-ad1b-e0d09f7aec3f",
   "metadata": {},
   "outputs": [
    {
     "data": {
      "text/plain": [
       "7045"
      ]
     },
     "execution_count": 71,
     "metadata": {},
     "output_type": "execute_result"
    }
   ],
   "source": [
    "df['Release Date'].isna().sum()"
   ]
  },
  {
   "cell_type": "code",
   "execution_count": 72,
   "id": "ea645cf2-daef-409a-a876-722e243369ea",
   "metadata": {},
   "outputs": [
    {
     "data": {
      "text/plain": [
       "11.007984499757809"
      ]
     },
     "execution_count": 72,
     "metadata": {},
     "output_type": "execute_result"
    }
   ],
   "source": [
    "df['Release Date'].isna().mean() * 100"
   ]
  },
  {
   "cell_type": "code",
   "execution_count": 73,
   "id": "65e52844-52a2-4f1c-8f02-55bca5562479",
   "metadata": {},
   "outputs": [],
   "source": [
    "df = df.dropna(subset=['Release Date'])"
   ]
  },
  {
   "cell_type": "code",
   "execution_count": 74,
   "id": "b34c641a-a936-4cdf-be6f-77d23b0f769d",
   "metadata": {},
   "outputs": [
    {
     "data": {
      "text/plain": [
       "Title                  0\n",
       "Platform               0\n",
       "Genre                  0\n",
       "Publisher              0\n",
       "Developer              0\n",
       "Rating                 0\n",
       "Total Sales            0\n",
       "North America Sales    0\n",
       "Japan Sales            0\n",
       "PAL Region Sales       0\n",
       "Other Regions Sales    0\n",
       "Release Date           0\n",
       "dtype: int64"
      ]
     },
     "execution_count": 74,
     "metadata": {},
     "output_type": "execute_result"
    }
   ],
   "source": [
    "df.isna().sum()"
   ]
  },
  {
   "cell_type": "code",
   "execution_count": 75,
   "id": "fd05d666-d6df-4702-bd64-e691527bf9a2",
   "metadata": {},
   "outputs": [
    {
     "name": "stdout",
     "output_type": "stream",
     "text": [
      "<class 'pandas.core.frame.DataFrame'>\n",
      "Index: 56954 entries, 0 to 64014\n",
      "Data columns (total 12 columns):\n",
      " #   Column               Non-Null Count  Dtype  \n",
      "---  ------               --------------  -----  \n",
      " 0   Title                56954 non-null  object \n",
      " 1   Platform             56954 non-null  object \n",
      " 2   Genre                56954 non-null  object \n",
      " 3   Publisher            56954 non-null  object \n",
      " 4   Developer            56954 non-null  object \n",
      " 5   Rating               56954 non-null  float64\n",
      " 6   Total Sales          56954 non-null  float64\n",
      " 7   North America Sales  56954 non-null  float64\n",
      " 8   Japan Sales          56954 non-null  float64\n",
      " 9   PAL Region Sales     56954 non-null  float64\n",
      " 10  Other Regions Sales  56954 non-null  float64\n",
      " 11  Release Date         56954 non-null  object \n",
      "dtypes: float64(6), object(6)\n",
      "memory usage: 5.6+ MB\n"
     ]
    }
   ],
   "source": [
    "df.info()"
   ]
  },
  {
   "cell_type": "code",
   "execution_count": 76,
   "id": "ad01cc8a-7575-4608-afb4-fb54c2b3e35b",
   "metadata": {},
   "outputs": [
    {
     "data": {
      "text/plain": [
       "Title                   object\n",
       "Platform                object\n",
       "Genre                   object\n",
       "Publisher               object\n",
       "Developer               object\n",
       "Rating                 float64\n",
       "Total Sales            float64\n",
       "North America Sales    float64\n",
       "Japan Sales            float64\n",
       "PAL Region Sales       float64\n",
       "Other Regions Sales    float64\n",
       "Release Date            object\n",
       "dtype: object"
      ]
     },
     "execution_count": 76,
     "metadata": {},
     "output_type": "execute_result"
    }
   ],
   "source": [
    "df.dtypes"
   ]
  },
  {
   "cell_type": "markdown",
   "id": "87429bba-2851-4050-b220-d1072075b332",
   "metadata": {},
   "source": [
    "#### ***9. Converting the data type of 'Release Date' column from object to datetime.***"
   ]
  },
  {
   "cell_type": "code",
   "execution_count": 77,
   "id": "68314f5f-5031-4969-a1c6-a293a34dbc9d",
   "metadata": {},
   "outputs": [],
   "source": [
    "df['Release Date'] = pd.to_datetime(df['Release Date'])"
   ]
  },
  {
   "cell_type": "code",
   "execution_count": 78,
   "id": "a9df3637-d86f-4b66-a5c0-be53a34c6e1c",
   "metadata": {},
   "outputs": [
    {
     "data": {
      "text/plain": [
       "Title                          object\n",
       "Platform                       object\n",
       "Genre                          object\n",
       "Publisher                      object\n",
       "Developer                      object\n",
       "Rating                        float64\n",
       "Total Sales                   float64\n",
       "North America Sales           float64\n",
       "Japan Sales                   float64\n",
       "PAL Region Sales              float64\n",
       "Other Regions Sales           float64\n",
       "Release Date           datetime64[ns]\n",
       "dtype: object"
      ]
     },
     "execution_count": 78,
     "metadata": {},
     "output_type": "execute_result"
    }
   ],
   "source": [
    "df.dtypes"
   ]
  },
  {
   "cell_type": "markdown",
   "id": "e221fd09-53e2-407a-a1f3-ef7d21503de3",
   "metadata": {},
   "source": [
    "#### ***10. Dropping duplicated rows***"
   ]
  },
  {
   "cell_type": "code",
   "execution_count": 79,
   "id": "a73ea897-08c9-46a6-9a01-e7ea2161e42a",
   "metadata": {},
   "outputs": [
    {
     "data": {
      "text/plain": [
       "21"
      ]
     },
     "execution_count": 79,
     "metadata": {},
     "output_type": "execute_result"
    }
   ],
   "source": [
    "df.duplicated().sum()"
   ]
  },
  {
   "cell_type": "code",
   "execution_count": 80,
   "id": "7542e13e-e1f1-4ab7-ab51-33cc8467dc22",
   "metadata": {},
   "outputs": [],
   "source": [
    "df = df.drop_duplicates().reset_index(drop=True)"
   ]
  },
  {
   "cell_type": "code",
   "execution_count": 81,
   "id": "2dc89654-146a-40e8-b757-1f0d0899e0b5",
   "metadata": {},
   "outputs": [
    {
     "data": {
      "text/plain": [
       "0"
      ]
     },
     "execution_count": 81,
     "metadata": {},
     "output_type": "execute_result"
    }
   ],
   "source": [
    "df.duplicated().sum()"
   ]
  },
  {
   "cell_type": "markdown",
   "id": "6b274aca-4bcc-4195-941b-e0041a096597",
   "metadata": {},
   "source": [
    "## EDA and visualization"
   ]
  },
  {
   "cell_type": "code",
   "execution_count": 83,
   "id": "696104a1-5bcb-4086-9c3a-99c99c621efa",
   "metadata": {},
   "outputs": [],
   "source": [
    "import matplotlib.pyplot as plt\n",
    "import seaborn as sns"
   ]
  },
  {
   "cell_type": "markdown",
   "id": "fc36d865-f731-4da2-8cae-f3d126854633",
   "metadata": {},
   "source": [
    "#### ***1. What are the top 10 best-selling video games of all time?***"
   ]
  },
  {
   "cell_type": "code",
   "execution_count": 89,
   "id": "0e1377e0-a01f-4ec0-a1e4-7f80b52ebcb9",
   "metadata": {},
   "outputs": [
    {
     "name": "stderr",
     "output_type": "stream",
     "text": [
      "C:\\Users\\lenovo\\AppData\\Local\\Temp\\ipykernel_21916\\490114848.py:5: FutureWarning: \n",
      "\n",
      "The `ci` parameter is deprecated. Use `errorbar=None` for the same effect.\n",
      "\n",
      "  sns.barplot(x='Total Sales', y='Title', data=top_titles, palette='coolwarm', ci=None)\n",
      "C:\\Users\\lenovo\\AppData\\Local\\Temp\\ipykernel_21916\\490114848.py:5: FutureWarning: \n",
      "\n",
      "Passing `palette` without assigning `hue` is deprecated and will be removed in v0.14.0. Assign the `y` variable to `hue` and set `legend=False` for the same effect.\n",
      "\n",
      "  sns.barplot(x='Total Sales', y='Title', data=top_titles, palette='coolwarm', ci=None)\n"
     ]
    },
    {
     "data": {
      "image/png": "[encoded data removed]",
      "text/plain": [
       "<Figure size 1200x600 with 1 Axes>"
      ]
     },
     "metadata": {},
     "output_type": "display_data"
    }
   ],
   "source": [
    "top_titles = df.groupby('Title', as_index=False)['Total Sales'].sum()\n",
    "top_titles = top_titles.nlargest(10, 'Total Sales')\n",
    "\n",
    "plt.figure(figsize=(12, 6))\n",
    "sns.barplot(x='Total Sales', y='Title', data=top_titles, palette='coolwarm', ci=None)\n",
    "plt.title('Top 10 Best-Selling Video Games')\n",
    "plt.xlabel('Total Sales (millions)')\n",
    "plt.ylabel('Game Title')\n",
    "plt.show()"
   ]
  },
  {
   "cell_type": "markdown",
   "id": "c33d2ded-3025-45a9-81f1-295d286e667a",
   "metadata": {},
   "source": [
    "#### ***2. How have total video game sales changed over the years?***"
   ]
  },
  {
   "cell_type": "code",
   "execution_count": 90,
   "id": "2bc9242f-c95b-4d30-b5f9-c2ac0f882c4c",
   "metadata": {},
   "outputs": [
    {
     "data": {
      "image/png": "[encoded data removed]",
      "text/plain": [
       "<Figure size 1200x600 with 1 Axes>"
      ]
     },
     "metadata": {},
     "output_type": "display_data"
    }
   ],
   "source": [
    "df['Year'] = df['Release Date'].dt.year\n",
    "yearly_sales = df.groupby('Year')['Total Sales'].sum().reset_index()\n",
    "\n",
    "plt.figure(figsize=(12, 6))\n",
    "sns.lineplot(x='Year', y='Total Sales', data=yearly_sales, marker='o', color='b')\n",
    "plt.title('Total Video Game Sales Over Years')\n",
    "plt.xlabel('Year')\n",
    "plt.ylabel('Total Sales (millions)')\n",
    "plt.grid()\n",
    "plt.show()"
   ]
  },
  {
   "cell_type": "markdown",
   "id": "7287271a-adff-4f99-bb2b-ca6258a127d5",
   "metadata": {},
   "source": [
    "#### ***3.Which platforms have sold the most games?***"
   ]
  },
  {
   "cell_type": "code",
   "execution_count": 91,
   "id": "0113393d-71d1-48ef-a1af-b88507066167",
   "metadata": {},
   "outputs": [
    {
     "name": "stderr",
     "output_type": "stream",
     "text": [
      "C:\\Users\\lenovo\\AppData\\Local\\Temp\\ipykernel_21916\\1777855642.py:4: FutureWarning: \n",
      "\n",
      "Passing `palette` without assigning `hue` is deprecated and will be removed in v0.14.0. Assign the `y` variable to `hue` and set `legend=False` for the same effect.\n",
      "\n",
      "  sns.barplot(x='Total Sales', y='Platform', data=platform_sales, palette='viridis')\n"
     ]
    },
    {
     "data": {
      "image/png": "[encoded data removed]",
      "text/plain": [
       "<Figure size 1200x600 with 1 Axes>"
      ]
     },
     "metadata": {},
     "output_type": "display_data"
    }
   ],
   "source": [
    "platform_sales = df.groupby('Platform')['Total Sales'].sum().reset_index().sort_values(by='Total Sales', ascending=False).head(10)\n",
    "\n",
    "plt.figure(figsize=(12, 6))\n",
    "sns.barplot(x='Total Sales', y='Platform', data=platform_sales, palette='viridis')\n",
    "plt.title('Top 10 Platforms by Total Sales')\n",
    "plt.xlabel('Total Sales (millions)')\n",
    "plt.ylabel('Platform')\n",
    "plt.show()"
   ]
  },
  {
   "cell_type": "markdown",
   "id": "9cec87fc-0c38-4013-a9a0-47266f5222e8",
   "metadata": {},
   "source": [
    "#### ***4.Which game genres have the highest total sales?***"
   ]
  },
  {
   "cell_type": "code",
   "execution_count": 92,
   "id": "c04f89b4-170e-4684-b6f7-a70144f8d976",
   "metadata": {},
   "outputs": [
    {
     "name": "stderr",
     "output_type": "stream",
     "text": [
      "C:\\Users\\lenovo\\AppData\\Local\\Temp\\ipykernel_21916\\1030482624.py:4: FutureWarning: \n",
      "\n",
      "Passing `palette` without assigning `hue` is deprecated and will be removed in v0.14.0. Assign the `y` variable to `hue` and set `legend=False` for the same effect.\n",
      "\n",
      "  sns.barplot(x='Total Sales', y='Genre', data=genre_sales, palette='magma')\n"
     ]
    },
    {
     "data": {
      "image/png": "[encoded data removed]",
      "text/plain": [
       "<Figure size 1200x600 with 1 Axes>"
      ]
     },
     "metadata": {},
     "output_type": "display_data"
    }
   ],
   "source": [
    "genre_sales = df.groupby('Genre')['Total Sales'].sum().reset_index().sort_values(by='Total Sales', ascending=False)\n",
    "\n",
    "plt.figure(figsize=(12, 6))\n",
    "sns.barplot(x='Total Sales', y='Genre', data=genre_sales, palette='magma')\n",
    "plt.title('Total Sales by Genre')\n",
    "plt.xlabel('Total Sales (millions)')\n",
    "plt.ylabel('Genre')\n",
    "plt.show()"
   ]
  },
  {
   "cell_type": "markdown",
   "id": "945e8f34-8b01-44ae-918f-3b86b6c934c6",
   "metadata": {},
   "source": [
    "#### ***5.What is the regional sales distribution?***"
   ]
  },
  {
   "cell_type": "code",
   "execution_count": 93,
   "id": "77d2d607-b53e-43db-b3ee-3dfdb47d394c",
   "metadata": {},
   "outputs": [
    {
     "data": {
      "image/png": "[encoded data removed]",
      "text/plain": [
       "<Figure size 800x800 with 1 Axes>"
      ]
     },
     "metadata": {},
     "output_type": "display_data"
    }
   ],
   "source": [
    "regions = ['North America Sales', 'Japan Sales', 'PAL Region Sales', 'Other Regions Sales']\n",
    "regional_sales = df[regions].sum().reset_index()\n",
    "regional_sales.columns = ['Region', 'Total Sales']\n",
    "\n",
    "plt.figure(figsize=(8, 8))\n",
    "plt.pie(regional_sales['Total Sales'], labels=regional_sales['Region'], autopct='%1.1f%%', startangle=140, colors=['blue', 'red', 'green', 'purple'])\n",
    "plt.title('Regional Sales Distribution')\n",
    "plt.show()"
   ]
  },
  {
   "cell_type": "markdown",
   "id": "4de4f322-52fe-4682-a9dd-78e0449fc4de",
   "metadata": {},
   "source": [
    "#### ***6.How does game sales distribution vary across genres?***"
   ]
  },
  {
   "cell_type": "code",
   "execution_count": 94,
   "id": "feca511b-c611-49e2-9447-3dd74be9eab8",
   "metadata": {},
   "outputs": [
    {
     "name": "stderr",
     "output_type": "stream",
     "text": [
      "C:\\Users\\lenovo\\AppData\\Local\\Temp\\ipykernel_21916\\542242160.py:2: FutureWarning: \n",
      "\n",
      "The `ci` parameter is deprecated. Use `errorbar=None` for the same effect.\n",
      "\n",
      "  sns.barplot(x='Genre', y='Total Sales', data=df, palette='coolwarm', ci=None)\n",
      "C:\\Users\\lenovo\\AppData\\Local\\Temp\\ipykernel_21916\\542242160.py:2: FutureWarning: \n",
      "\n",
      "Passing `palette` without assigning `hue` is deprecated and will be removed in v0.14.0. Assign the `x` variable to `hue` and set `legend=False` for the same effect.\n",
      "\n",
      "  sns.barplot(x='Genre', y='Total Sales', data=df, palette='coolwarm', ci=None)\n"
     ]
    },
    {
     "data": {
      "image/png": "[encoded data removed]",
      "text/plain": [
       "<Figure size 1200x600 with 1 Axes>"
      ]
     },
     "metadata": {},
     "output_type": "display_data"
    }
   ],
   "source": [
    "plt.figure(figsize=(12, 6))\n",
    "sns.barplot(x='Genre', y='Total Sales', data=df, palette='coolwarm', ci=None)\n",
    "plt.xticks(rotation=45)\n",
    "plt.title('Sales Distribution Across Genres')\n",
    "plt.xlabel('Genre')\n",
    "plt.ylabel('Total Sales (millions)')\n",
    "plt.show()"
   ]
  },
  {
   "cell_type": "markdown",
   "id": "a123f48d-41e1-4ed9-9c75-782ee2b60767",
   "metadata": {},
   "source": [
    "#### ***7.Which publishers have the highest total sales?***"
   ]
  },
  {
   "cell_type": "code",
   "execution_count": 95,
   "id": "36bf2aee-5625-4032-a1e3-430c5bc48ced",
   "metadata": {},
   "outputs": [
    {
     "name": "stderr",
     "output_type": "stream",
     "text": [
      "C:\\Users\\lenovo\\AppData\\Local\\Temp\\ipykernel_21916\\2603620969.py:4: FutureWarning: \n",
      "\n",
      "Passing `palette` without assigning `hue` is deprecated and will be removed in v0.14.0. Assign the `y` variable to `hue` and set `legend=False` for the same effect.\n",
      "\n",
      "  sns.barplot(x='Total Sales', y='Publisher', data=publisher_sales, palette='Blues_r')\n"
     ]
    },
    {
     "data": {
      "image/png": "[encoded data removed]",
      "text/plain": [
       "<Figure size 1200x600 with 1 Axes>"
      ]
     },
     "metadata": {},
     "output_type": "display_data"
    }
   ],
   "source": [
    "publisher_sales = df.groupby('Publisher')['Total Sales'].sum().reset_index().sort_values(by='Total Sales', ascending=False).head(10)\n",
    "\n",
    "plt.figure(figsize=(12, 6))\n",
    "sns.barplot(x='Total Sales', y='Publisher', data=publisher_sales, palette='Blues_r')\n",
    "plt.title('Top 10 Publishers by Total Sales')\n",
    "plt.xlabel('Total Sales (millions)')\n",
    "plt.ylabel('Publisher')\n",
    "plt.show()"
   ]
  },
  {
   "cell_type": "markdown",
   "id": "d9370db7-e5ef-4de9-9433-39d5b5dd26aa",
   "metadata": {},
   "source": [
    "#### ***8. How do sales compare across the top 5 gaming companies?***"
   ]
  },
  {
   "cell_type": "code",
   "execution_count": 96,
   "id": "fe71fe75-16d7-4ad6-a3a0-3eccdb0d1227",
   "metadata": {},
   "outputs": [
    {
     "name": "stderr",
     "output_type": "stream",
     "text": [
      "C:\\Users\\lenovo\\AppData\\Local\\Temp\\ipykernel_21916\\2751849753.py:5: FutureWarning: \n",
      "\n",
      "The `ci` parameter is deprecated. Use `errorbar=None` for the same effect.\n",
      "\n",
      "  sns.barplot(x='Publisher', y='Total Sales', data=df_top_publishers, palette='Set2', ci=None)\n",
      "C:\\Users\\lenovo\\AppData\\Local\\Temp\\ipykernel_21916\\2751849753.py:5: FutureWarning: \n",
      "\n",
      "Passing `palette` without assigning `hue` is deprecated and will be removed in v0.14.0. Assign the `x` variable to `hue` and set `legend=False` for the same effect.\n",
      "\n",
      "  sns.barplot(x='Publisher', y='Total Sales', data=df_top_publishers, palette='Set2', ci=None)\n"
     ]
    },
    {
     "data": {
      "image/png": "[encoded data removed]",
      "text/plain": [
       "<Figure size 1000x600 with 1 Axes>"
      ]
     },
     "metadata": {},
     "output_type": "display_data"
    }
   ],
   "source": [
    "top_publishers = df.groupby('Publisher')['Total Sales'].sum().nlargest(5).index\n",
    "df_top_publishers = df[df['Publisher'].isin(top_publishers)]\n",
    "\n",
    "plt.figure(figsize=(10, 6))\n",
    "sns.barplot(x='Publisher', y='Total Sales', data=df_top_publishers, palette='Set2', ci=None)\n",
    "plt.title('Sales Comparison Across Top 5 Publishers')\n",
    "plt.xlabel('Publisher')\n",
    "plt.ylabel('Total Sales (millions)')\n",
    "plt.xticks(rotation=30)\n",
    "plt.show()"
   ]
  },
  {
   "cell_type": "code",
   "execution_count": null,
   "id": "684fd540-3d78-48e6-8a2c-8a6a953b760b",
   "metadata": {},
   "outputs": [],
   "source": []
  },
  {
   "cell_type": "code",
   "execution_count": null,
   "id": "cff891e0-1910-4d14-aa42-2f9204aecc7c",
   "metadata": {},
   "outputs": [],
   "source": []
  },
  {
   "cell_type": "code",
   "execution_count": null,
   "id": "daafee60-2a2b-4bc9-85c7-f5ddc1fbd245",
   "metadata": {},
   "outputs": [],
   "source": []
  },
  {
   "cell_type": "code",
   "execution_count": null,
   "id": "0ea1ef73-fcaf-4948-9c61-a89876d881f1",
   "metadata": {},
   "outputs": [],
   "source": []
  }
 ],
 "metadata": {
  "kernelspec": {
   "display_name": "Python 3 (ipykernel)",
   "language": "python",
   "name": "python3"
  },
  "language_info": {
   "codemirror_mode": {
    "name": "ipython",
    "version": 3
   },
   "file_extension": ".py",
   "mimetype": "text/x-python",
   "name": "python",
   "nbconvert_exporter": "python",
   "pygments_lexer": "ipython3",
   "version": "3.12.4"
  }
 },
 "nbformat": 4,
 "nbformat_minor": 5
}
